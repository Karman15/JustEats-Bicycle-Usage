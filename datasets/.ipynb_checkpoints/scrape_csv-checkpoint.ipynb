{
 "cells": [
  {
   "cell_type": "markdown",
   "metadata": {},
   "source": [
    "# Scrape JustEact Cycles Historical Data"
   ]
  },
  {
   "cell_type": "code",
   "execution_count": 11,
   "metadata": {},
   "outputs": [],
   "source": [
    "from bs4 import BeautifulSoup\n",
    "from urllib import request"
   ]
  },
  {
   "cell_type": "markdown",
   "metadata": {},
   "source": [
    "We first need to scrape the urls to the csv files from the website, and save them into an array for later use."
   ]
  },
  {
   "cell_type": "code",
   "execution_count": 9,
   "metadata": {},
   "outputs": [],
   "source": [
    "url = \"https://edinburghcyclehire.com/open-data/historical\"\n",
    "r = request.urlopen(url)\n",
    "soup = BeautifulSoup(r,\"html.parser\")\n",
    "files = soup.findAll(\"a\",{\"class\":\"sc-AxgMl dAEeRl\"})\n",
    "file_list = []\n",
    "for file in files:\n",
    "    if file[\"href\"].endswith(\"csv\"):\n",
    "        file_list.append(file[\"href\"])\n",
    "    else:\n",
    "        continue\n",
    "file_list.reverse()"
   ]
  },
  {
   "cell_type": "markdown",
   "metadata": {},
   "source": [
    "Now, the urls are opened and the contents of the files are stored in csv files. This process could ahve been done manually, however, there are too many files to go through."
   ]
  },
  {
   "cell_type": "code",
   "execution_count": 10,
   "metadata": {},
   "outputs": [],
   "source": [
    "count = 9\n",
    "year = 2018\n",
    "for i in range(len(file_list)):\n",
    "    response = request.urlopen(file_list[i])\n",
    "    if count % 12 == 0:\n",
    "        csv_file = open(\"cycle\" + str(year) + \"_12.csv\",\"wb\")\n",
    "    else:\n",
    "        csv_file = open(\"cycle\" + str(year) + \"_\" + str(count % 12) + \".csv\",\"wb\")\n",
    "    csv_file.write(response.read())\n",
    "    csv_file.close()\n",
    "    if count % 12 == 0:\n",
    "        year += 1\n",
    "    count += 1    "
   ]
  }
 ],
 "metadata": {
  "kernelspec": {
   "display_name": "Python 3",
   "language": "python",
   "name": "python3"
  },
  "language_info": {
   "codemirror_mode": {
    "name": "ipython",
    "version": 3
   },
   "file_extension": ".py",
   "mimetype": "text/x-python",
   "name": "python",
   "nbconvert_exporter": "python",
   "pygments_lexer": "ipython3",
   "version": "3.9.0"
  }
 },
 "nbformat": 4,
 "nbformat_minor": 4
}
